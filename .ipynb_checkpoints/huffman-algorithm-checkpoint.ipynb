{
 "cells": [
  {
   "cell_type": "code",
   "execution_count": 72,
   "id": "49a9f4c8",
   "metadata": {},
   "outputs": [
    {
     "name": "stdout",
     "output_type": "stream",
     "text": [
      "2022 dvigifcolinahknfvlgcnidqhrjncrxinmaidrjhnsiiueccagikduigfjyqdxgradomhrvepfhjqjljanenfsrkpfbjfbeddoieampjmqffgoagqejoaiaildtqdsfaimxkobskagpejmkjeajgrbgasqxufkhcunhfciipkeoibcbekemucgbtijuvlqknlmmpjdejngmbmjkdanbrphfjcpkclrhybfxpfmvggbiolbkcfenimbcifhxocpkqjecmeqaegwjcwcqqgdmmbfuafnhitfbphcccovkpbcaidumfehbudxftngahoqhiupmklkgfoomhfyoajpkpnabgdkkjrrksagwaxarslfaahhzjctbwdafpkcirjkidobbmmeagbhvefoiolgunjchadplhdgkkiaogipmchecgjvrndlcidgaieljpnbcakfalbehrifldcjkpbzdvgrpceebahemcpjbnrfosgkjrcwtolerabrmgovbrhsncofdhkfuflgpnihcbuhhmhbaeoiulmdnfeesqgcrkpbgirbotriddfnsflfcgplcqwokdhbdehkdxoejbwifnvqbfwikmefghaljlcverqlardfovblifhduarrhyphxssrstegiolacbohdbqscbjlkrhsjpigkdajntabdeefebwrelgdgehukynllhbcyanfkteerqkdocioyqnbmlcpbpdhomceboeknadqarwehicokayhjkbwnqdbbjbgjdhavnkaggdkqpokghbcikugilftfbqanluupeehmwbfhagnsvtldahdmabcjngukcrjgngbahktlpgcpcgmlbgjbbviaaeteuadcqoadfxdtimksbbdeimneegabjokqgffdeffgadtrhndiiasbdbtfgfaabiijcfjlkrbbcdcguukojbieecemcactiimhmlhffehsbiedymdaflfhlppehfbbnfgvnnafncefcnkdcrjjilkcnikoboapjdjewhebhonvgfjfdfbcojnwfelusckkonmedeqagbkcvgidwjaseojmrknficoolsaogjlmfldcazcghceybvayhegfqrhhghoptejfbkmketrpiabdbhpcmemjiauclbigvffglkdjokdmbfbbrglcbwxjoldnhjdklwepcoeetogdedgljlgyhkceareejgsjacpesjebgbsiatmfgdcelrddurhcgmmjepafagccblahkijbvihhrjcbkmevgalofdihlsjrbjcmbghwebcjdcnqlnmablggdfflaahnhgkffignhrjaxnblameftdgwcnejiadidgtmimjdwadiobrtfdgjiakeevlibgkymzdlcawcdbiwcdldlllkabpfkuwpqdcmjtvkgqasfiapafflhqnldnlqheeeslufebeytfffgdeirzlsbeusxckeckfhhtbhqaakolpglegbekwieeeefjgapbukghemaojpguinnjjbqarobogqknbuaxezhojdpzkbenkmajgzeiikjoulbnpkocuhplaladnibqggmjsgpmakpjcezbvqmgzbpcndwkiibbgkqfmmmicabjbaekajpulavrekmcmflegkdocfjaslfjkbaigwlswifiduahchibckvonldbcxfwqdphilpffwdliyajffcboavxtqlvadjaefcinqjlfdclmlhwedfjmmgjktgbfhodlkkbgdgogsaggnugiklitjjfrelihwsfqptnqlqzbjgfaqkeezkaaarfatfbtgbibiarolhphbxlmbpkiiceuxhbuqjhngrfcdpllcrxhzectepdcmlnurmcoapnneewnhidqdkllhscdleddftjhewieoixpiqdcjagkfoqhrgslcerigaohkkkejlqbjthrbcqphccqteqobdefeofggmfcrsccagtdeiidkaeedaujvhailbbahsefrthckisojaffxjggfcos\n"
     ]
    }
   ],
   "source": [
    "import numpy as np\n",
    "import random;\n",
    "def generate_string(length):\n",
    "    result=\"\";\n",
    "    \n",
    "    for i in range(length):\n",
    "        temp=abs(int(np.random.randn()*10+random.random()*13))\n",
    "        result+=chr(temp%26+97)\n",
    "        \n",
    "    return result;\n",
    "\n",
    "sample_string = generate_string(2022)\n",
    "print(len(sample_string),sample_string)"
   ]
  },
  {
   "cell_type": "code",
   "execution_count": 97,
   "id": "ee46799d",
   "metadata": {
    "scrolled": true
   },
   "outputs": [
    {
     "name": "stdout",
     "output_type": "stream",
     "text": [
      "{'d': 113, 'v': 31, 'i': 108, 'g': 119, 'f': 122, 'c': 118, 'o': 75, 'l': 102, 'n': 73, 'a': 129, 'h': 103, 'k': 104, 'q': 54, 'r': 62, 'j': 102, 'x': 22, 'm': 73, 's': 42, 'u': 41, 'e': 131, 'y': 15, 'p': 65, 'b': 132, 't': 40, 'w': 33, 'z': 13}\n",
      "\n"
     ]
    },
    {
     "data": {
      "image/png": "[encoded data removed]",
      "text/plain": [
       "<Figure size 432x288 with 1 Axes>"
      ]
     },
     "metadata": {
      "needs_background": "light"
     },
     "output_type": "display_data"
    },
    {
     "name": "stdout",
     "output_type": "stream",
     "text": [
      "{'j': '00000', 'y': '00001000', 'z': '00001001', 'x': '0000101', 's': '000011', 'u': '000100', 't': '000101', 'o': '00011', 'n': '00100', 'm': '00101', 'b': '0011', 'e': '0100', 'a': '0101', 'p': '01100', 'w': '011010', 'v': '011011', 'f': '0111', 'g': '1000', 'c': '1001', 'r': '10100', 'q': '10101', 'd': '1011', 'i': '1100', 'k': '1101', 'h': '1110', 'l': '1111'}\n"
     ]
    }
   ],
   "source": [
    "import matplotlib.pyplot as plt\n",
    "\n",
    "\n",
    "def huffman_encode(string):\n",
    "    table=caculate_emergence(string)\n",
    "    alphabet_list=[[key,table[key]] for key in table]\n",
    "    \n",
    "    nodes=[]\n",
    "    \n",
    "    for alphabet in alphabet_list:\n",
    "        nodes.append(Huffman_Node(alphabet[1],alphabet[0]))\n",
    "    \n",
    "    while len(nodes)>1:\n",
    "        nodes=sorted(nodes, key=lambda x:x.count)\n",
    "        nodes.reverse();\n",
    "        \n",
    "        right=nodes.pop()\n",
    "        left=nodes.pop()\n",
    "        left.code=0;\n",
    "        right.code=1;\n",
    "        \n",
    "        new_node=Huffman_Node(left.count+right.count, left.character+right.character, left, right);\n",
    "        nodes.append(new_node)\n",
    "    \n",
    "    huffman_with_code=calculate_codes(nodes[0])\n",
    "    print(huffman_with_code)\n",
    "    \n",
    "    return;\n",
    "\n",
    "codes={}\n",
    "\n",
    "def calculate_codes(node, val=''):\n",
    "    new_val=val+str(node.code)\n",
    "    if(node.left):\n",
    "        calculate_codes(node.left,new_val);\n",
    "    if(node.right):\n",
    "        calculate_codes(node.right,new_val)\n",
    "    \n",
    "    if(not node.left and not node.right):\n",
    "        codes[node.character]=new_val\n",
    "    return codes\n",
    "\n",
    "class Huffman_Node:\n",
    "    \n",
    "    def __init__(self,count,character,left=None, right=None):\n",
    "        self.count=count\n",
    "        self.character=character\n",
    "        self.code='' ;\n",
    "        self.left=left;\n",
    "        self.right=right;\n",
    "        \n",
    "def caculate_emergence(string):\n",
    "    table={}\n",
    "    for s in string:\n",
    "        if s not in table:\n",
    "            table[s]=0;\n",
    "        table[s]+=1\n",
    "    print(table)\n",
    "    print()\n",
    "    visualize_string_distribution(table)\n",
    "    return table\n",
    "\n",
    "def visualize_string_distribution(table):\n",
    "    arr=[]\n",
    "    for key in table:\n",
    "        temp=[]\n",
    "        temp.append(key)\n",
    "        temp.append(table[key])\n",
    "        arr.append(temp)\n",
    "    \n",
    "    arr.sort()\n",
    "    x=[a[0] for a in arr]\n",
    "    y=[a[1] for a in arr]\n",
    "    \n",
    "    fig, ax = plt.subplots()\n",
    "\n",
    "    ax.bar(x, y, width=1, edgecolor=\"white\", linewidth=0.7)\n",
    "    \n",
    "    plt.show()\n",
    "\n",
    "    return;\n",
    "\n",
    "huffman_encode(sample_string)\n"
   ]
  },
  {
   "cell_type": "code",
   "execution_count": null,
   "id": "a82f1de7",
   "metadata": {},
   "outputs": [],
   "source": []
  }
 ],
 "metadata": {
  "kernelspec": {
   "display_name": "Python 3",
   "language": "python",
   "name": "python3"
  },
  "language_info": {
   "codemirror_mode": {
    "name": "ipython",
    "version": 3
   },
   "file_extension": ".py",
   "mimetype": "text/x-python",
   "name": "python",
   "nbconvert_exporter": "python",
   "pygments_lexer": "ipython3",
   "version": "3.8.8"
  }
 },
 "nbformat": 4,
 "nbformat_minor": 5
}
