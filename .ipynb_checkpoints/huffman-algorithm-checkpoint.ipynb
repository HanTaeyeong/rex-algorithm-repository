{
 "cells": [
  {
   "cell_type": "code",
   "execution_count": 61,
   "id": "49a9f4c8",
   "metadata": {},
   "outputs": [
    {
     "name": "stdout",
     "output_type": "stream",
     "text": [
      "200 bagkpcnfhoffgmgfbogkfqmtfcebpbodtlnecnfgebjwdojjbcabgbsskbscibfbpllovaigbphfaamaiucesaejiqlhpnkkofvcbbfvfkfbctgbgmdhyndjdeeagxcpfdjfddciidrgqbmkbjaeaefgkvjcdakfwibifobxhhcwreshlchkkkqrldgbhvekhgdfdtic\n"
     ]
    }
   ],
   "source": [
    "import numpy as np\n",
    "import random;\n",
    "def generate_string(length):\n",
    "    result=\"\";\n",
    "    \n",
    "    for i in range(length):\n",
    "        temp=abs(int(np.random.randn()*10+random.random()*13))\n",
    "        result+=chr(temp%26+97)\n",
    "        \n",
    "    return result;\n",
    "\n",
    "sample_string = generate_string(200)\n",
    "print(len(sample_string),sample_string)\n"
   ]
  },
  {
   "cell_type": "code",
   "execution_count": 62,
   "id": "ee46799d",
   "metadata": {
    "scrolled": true
   },
   "outputs": [
    {
     "name": "stdout",
     "output_type": "stream",
     "text": [
      "{'b': 21, 'a': 11, 'g': 14, 'k': 13, 'p': 6, 'c': 14, 'n': 5, 'f': 19, 'h': 10, 'o': 7, 'm': 5, 'q': 4, 't': 4, 'e': 11, 'd': 13, 'l': 6, 'j': 8, 'w': 3, 's': 5, 'i': 9, 'v': 5, 'u': 1, 'y': 1, 'x': 2, 'r': 3}\n",
      "\n"
     ]
    },
    {
     "data": {
      "image/png": "[encoded data removed]",
      "text/plain": [
       "<Figure size 432x288 with 1 Axes>"
      ]
     },
     "metadata": {
      "needs_background": "light"
     },
     "output_type": "display_data"
    },
    {
     "name": "stdout",
     "output_type": "stream",
     "text": [
      "{'h': '00000', 'n': '000010', 'q': '000011', 'i': '00010', 't': '000110', 'y': '00011100', 'u': '00011101', 'x': '0001111', 'j': '00100', 'o': '00101', 'c': '0011', 'g': '0100', 'k': '0101', 'd': '0110', 'p': '01110', 'l': '01111', 'a': '1000', 'r': '100100', 'w': '100101', 'm': '10011', 'b': '101', 'e': '1100', 's': '11010', 'v': '11011', 'f': '111'}\n"
     ]
    }
   ],
   "source": [
    "import matplotlib.pyplot as plt\n",
    "\n",
    "\n",
    "def huffman_encode(string):\n",
    "    table=caculate_emergence(string)\n",
    "    alphabet_list=[[key,table[key]] for key in table]\n",
    "    \n",
    "    nodes=[]\n",
    "    \n",
    "    for alphabet in alphabet_list:\n",
    "        nodes.append(Huffman_Node(alphabet[1],alphabet[0]))\n",
    "    \n",
    "    while len(nodes)>1:\n",
    "        nodes=sorted(nodes, key=lambda x:x.count)\n",
    "        nodes.reverse();\n",
    "        \n",
    "        right=nodes.pop()\n",
    "        left=nodes.pop()\n",
    "        left.code=0;\n",
    "        right.code=1;\n",
    "        \n",
    "        new_node=Huffman_Node(left.count+right.count, left.character+right.character, left, right);\n",
    "        nodes.append(new_node)\n",
    "    \n",
    "    huffman_with_code=calculate_codes(nodes[0])\n",
    "    print(huffman_with_code)\n",
    "    \n",
    "    return nodes;\n",
    "\n",
    "codes={}\n",
    "\n",
    "def calculate_codes(node, val=''):\n",
    "    new_val=val+str(node.code)\n",
    "    if(node.left):\n",
    "        calculate_codes(node.left,new_val);\n",
    "    if(node.right):\n",
    "        calculate_codes(node.right,new_val)\n",
    "    \n",
    "    if(not node.left and not node.right):\n",
    "        codes[node.character]=new_val\n",
    "    return codes\n",
    "\n",
    "class Huffman_Node:\n",
    "    \n",
    "    def __init__(self,count,character,left=None, right=None):\n",
    "        self.count=count\n",
    "        self.character=character\n",
    "        self.code='' ;\n",
    "        self.left=left;\n",
    "        self.right=right;\n",
    "        \n",
    "def caculate_emergence(string):\n",
    "    table={}\n",
    "    for s in string:\n",
    "        if s not in table:\n",
    "            table[s]=0;\n",
    "        table[s]+=1\n",
    "    print(table)\n",
    "    print()\n",
    "    visualize_string_distribution(table)\n",
    "    return table\n",
    "\n",
    "def visualize_string_distribution(table):\n",
    "    arr=[]\n",
    "    for key in table:\n",
    "        temp=[]\n",
    "        temp.append(key)\n",
    "        temp.append(table[key])\n",
    "        arr.append(temp)\n",
    "    \n",
    "    arr.sort()\n",
    "    x=[a[0] for a in arr]\n",
    "    y=[a[1] for a in arr]\n",
    "    \n",
    "    fig, ax = plt.subplots()\n",
    "\n",
    "    ax.bar(x, y, width=1, edgecolor=\"white\", linewidth=0.7)\n",
    "    \n",
    "    plt.show()\n",
    "\n",
    "    return;\n",
    "\n",
    "nodes=huffman_encode(sample_string)\n",
    "def string_to_encoded(string_before_encoded):\n",
    "    encoded_string=''\n",
    "    for s in string_before_encoded:\n",
    "        encoded_string+=codes[s]\n",
    "    return encoded_string;\n"
   ]
  },
  {
   "cell_type": "code",
   "execution_count": 63,
   "id": "a82f1de7",
   "metadata": {
    "scrolled": true
   },
   "outputs": [
    {
     "name": "stdout",
     "output_type": "stream",
     "text": [
      "string size before encoded: 249\n",
      "integer after encoded: 144\n",
      "size reduced:57.83%\n"
     ]
    }
   ],
   "source": [
    "import sys\n",
    "\n",
    "size_before_encoded = sys.getsizeof(sample_string)\n",
    "print(f'string size before encoded: {size_before_encoded}')\n",
    "\n",
    "\n",
    "temp_string=string_to_encoded(sample_string)\n",
    "encoded_integer=int(temp_string,2)\n",
    "\n",
    "size_after_encoded=sys.getsizeof(encoded_integer);\n",
    "\n",
    "print(f'integer after encoded: {size_after_encoded}')\n",
    "\n",
    "print(f'size reduced:{round((size_after_encoded/size_before_encoded)*100,2)}%')\n"
   ]
  },
  {
   "cell_type": "code",
   "execution_count": 60,
   "id": "9fe1a63a",
   "metadata": {},
   "outputs": [
    {
     "name": "stdout",
     "output_type": "stream",
     "text": [
      "kidvohgggtddcgcgljjq\n",
      "True\n",
      "69\n"
     ]
    }
   ],
   "source": [
    "def decode_string(integer_val):\n",
    "    binary_string=format(integer_val,'b');\n",
    "    \n",
    "    result_string=''\n",
    "    current_node=nodes[0];\n",
    "    \n",
    "    for bc in binary_string:\n",
    "        if not current_node.left and not current_node.right:\n",
    "            result_string+=current_node.character;\n",
    "            current_node=nodes[0]\n",
    "            \n",
    "        if bc == '0':\n",
    "            current_node=current_node.left;\n",
    "        if bc == '1':\n",
    "            current_node=current_node.right;\n",
    "    \n",
    "    if not current_node.left and not current_node.right:\n",
    "        result_string+=current_node.character;\n",
    "        current_node=nodes[0]\n",
    "        \n",
    "    return result_string;\n",
    "\n",
    "decoded_string= decode_string(encoded_integer)\n",
    "print(decoded_string)\n",
    "print(sample_string == decoded_string)\n",
    "print(sys.getsizeof(decoded_string))"
   ]
  }
 ],
 "metadata": {
  "kernelspec": {
   "display_name": "Python 3",
   "language": "python",
   "name": "python3"
  },
  "language_info": {
   "codemirror_mode": {
    "name": "ipython",
    "version": 3
   },
   "file_extension": ".py",
   "mimetype": "text/x-python",
   "name": "python",
   "nbconvert_exporter": "python",
   "pygments_lexer": "ipython3",
   "version": "3.8.8"
  }
 },
 "nbformat": 4,
 "nbformat_minor": 5
}
