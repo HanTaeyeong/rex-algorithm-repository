{
 "cells": [
  {
   "cell_type": "code",
   "execution_count": 26,
   "id": "d9d34631",
   "metadata": {},
   "outputs": [
    {
     "name": "stdout",
     "output_type": "stream",
     "text": [
      "Han Taeyeong\n",
      "[['company', 'media.monks'], ['name', 'Han Taeyeong'], ['occupation', 'engineer'], ['age', 30]]\n"
     ]
    }
   ],
   "source": [
    "import math\n",
    "\n",
    "class Dictionary:\n",
    "\n",
    "    def __init__(self):\n",
    "        self.size=1000\n",
    "        self.table=[0 for i in range(self.size)]\n",
    "    \n",
    "    def set_item(self, key, value):\n",
    "        hash_value=abs(hash(key))%self.size;\n",
    "        table=self.table\n",
    "        \n",
    "        if table[hash_value]==0:\n",
    "            table[hash_value]=[[key,value]];\n",
    "            return\n",
    "        i=0;\n",
    "        current_list=table[hash_value]\n",
    "        \n",
    "        while i<len(current_list):    \n",
    "            if current_list[i][0]==key:\n",
    "                current_list[i][1]=value\n",
    "                has_key=True\n",
    "                return;\n",
    "            i+=1;\n",
    "            \n",
    "        current_list.append([key,value])\n",
    "        return;\n",
    "    \n",
    "    def get_item(self, key):\n",
    "        hash_value=abs(hash(key))%self.size\n",
    "        table=self.table\n",
    "        current_list=table[hash_value]\n",
    "        i=0;\n",
    "        while i<len(current_list):\n",
    "            \n",
    "            if current_list[i][0]==key:\n",
    "                return current_list[i][1]\n",
    "            i+=1;\n",
    "        return\n",
    "    \n",
    "    def print_all_items(self):\n",
    "        table=self.table;\n",
    "        items=[];\n",
    "        for current_list in table:\n",
    "            if current_list==0:\n",
    "                continue\n",
    "            \n",
    "            for item in current_list:\n",
    "                [key,value]=item;\n",
    "                items.append([key,value])\n",
    "        print(items)\n",
    "        return\n",
    "\n",
    "dictionary=Dictionary()\n",
    "dictionary.set_item('name','hty')\n",
    "dictionary.set_item('name','Han Taeyeong')\n",
    "dictionary.set_item('age',30)\n",
    "dictionary.set_item('age',30)\n",
    "dictionary.set_item('company','media.monks')\n",
    "dictionary.set_item('occupation','engineer')\n",
    "\n",
    "name=dictionary.get_item('name')\n",
    "print(name)\n",
    "\n",
    "dictionary.print_all_items();\n"
   ]
  }
 ],
 "metadata": {
  "kernelspec": {
   "display_name": "Python 3",
   "language": "python",
   "name": "python3"
  },
  "language_info": {
   "codemirror_mode": {
    "name": "ipython",
    "version": 3
   },
   "file_extension": ".py",
   "mimetype": "text/x-python",
   "name": "python",
   "nbconvert_exporter": "python",
   "pygments_lexer": "ipython3",
   "version": "3.8.8"
  }
 },
 "nbformat": 4,
 "nbformat_minor": 5
}
